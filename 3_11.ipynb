{
  "nbformat": 4,
  "nbformat_minor": 0,
  "metadata": {
    "colab": {
      "provenance": [],
      "authorship_tag": "ABX9TyP5hr9vbfe6vtfzhwpWqGJz",
      "include_colab_link": true
    },
    "kernelspec": {
      "name": "python3",
      "display_name": "Python 3"
    },
    "language_info": {
      "name": "python"
    }
  },
  "cells": [
    {
      "cell_type": "markdown",
      "metadata": {
        "id": "view-in-github",
        "colab_type": "text"
      },
      "source": [
        "<a href=\"https://colab.research.google.com/github/Mrcold2002/colab_code/blob/main/3_11.ipynb\" target=\"_parent\"><img src=\"https://colab.research.google.com/assets/colab-badge.svg\" alt=\"Open In Colab\"/></a>"
      ]
    },
    {
      "cell_type": "markdown",
      "source": [
        "# 模型选择，欠拟合，过拟合\n",
        "\n",
        "## 1 训练误差和泛化误差\n",
        "\n",
        "- 训练误差：模型在训练集上表现出的误差\n",
        "- 泛化误差：模型在任一测试数据样本上表现出的误差的期望，通常用在测试集上的误差来近似\n",
        "\n",
        "## 2 模型选择\n",
        "\n",
        "评估若干候选模型的表现并从中选择模型\n",
        "\n",
        "### 验证数据集\n",
        "\n",
        "严格意义来讲，测试集只能在所有超参数和模型选定后使用一次，因此不可以用测试集来选择模型。因此，我们可以预留一部分数据,称为验证数据集，用来进行模型选择\n",
        "\n",
        "### k折交叉检验\n",
        "\n",
        "由于验证数据集不参与模型训练，当训练数据不够用时，预留大量的验证数据集太过奢侈。一种改善方法是k折交叉检验。 \n",
        "\n",
        "在k折交叉检验中，我们把原石训练数据集分为k个不重复的子数据集，然后我们做k次模型训练和验证。每一次，我们使用一个子数据集验证模型，并使用其它k-1个数据集来训练模型。在这k次训练和验证中，每次用来验证模型子数据集都不同，最后对这k次训练误差和验证误差分别求平均\n",
        "\n",
        "## 3 欠拟合和过拟合\n",
        "\n",
        "欠拟合：模型无法得到较低的训练误差\n",
        "过拟合：模型的训练误差远小于它在测试数据集上的误差\n",
        "\n",
        "重点讨论两个因素：模型复杂度 和 训练数据集大小\n",
        "\n",
        "### 模型复杂度\n",
        "\n",
        "给定训练数据集，如果模型的复杂度过低，很容易发生欠拟合；\n",
        "如果模型复杂度过高，很容易发生过拟合\n",
        "\n",
        "### 训练数据集大小\n",
        "\n",
        "当训练数据集中样本数过少，特别是比模型参数数量更少时，过拟合容易发生，此外，泛化误差不会随训练数据集里样本数量增加而增大。因此，在计算资源允许的范围之内，我们通常希望训练数据集大一些，特别是在模型复杂度较高时，如层数较多的深度学习模型。\n",
        "\n",
        "## 4 多项式拟合试验"
      ],
      "metadata": {
        "id": "sa8VEylCEatG"
      }
    },
    {
      "cell_type": "code",
      "source": [
        "# 0 导入包和模块\n",
        "%matplotlib inline\n",
        "from matplotlib import pyplot as plt\n",
        "from IPython import display\n",
        "import d2lzh as d2l\n",
        "from mxnet import autograd,gluon,nd\n",
        "from mxnet.gluon import data as gdata,loss as gloss,nn"
      ],
      "metadata": {
        "id": "KzuDPP6ZKU1A"
      },
      "execution_count": 10,
      "outputs": []
    },
    {
      "cell_type": "code",
      "execution_count": 8,
      "metadata": {
        "id": "xdQU9S1rEaIN"
      },
      "outputs": [],
      "source": [
        "# 1 生成数据集\n",
        "# 生成人工数据集，以y=1.2*x-3.4*x^2+5.6*x^3+5+z (z是噪声，服从正太分布)\n",
        "n_train,n_test,true_w,true_b=100,100,[1.2,-3.4,5.6],5\n",
        "features = nd.random.normal(shape=(n_train+n_test,1))\n",
        "ploy_features=nd.concat(features,nd.power(features,2),nd.power(features,3))\n",
        "labels=(true_w[0]*ploy_features[:,0]+true_w[1]*ploy_features[:,1]+true_w[2]*ploy_features[:,2]+true_b)\n",
        "labels+=nd.random.normal(scale=0.1,shape=labels.shape) "
      ]
    },
    {
      "cell_type": "code",
      "source": [
        "# 展示生成数据\n",
        "def use_svg_display():\n",
        "    # 用矢量图显示\n",
        "    display.set_matplotlib_formats('svg')\n",
        "\n",
        "def set_figsize(figsize=(3.5, 2.5)):\n",
        "    use_svg_display()\n",
        "    # 设置图的尺寸\n",
        "    plt.rcParams['figure.figsize'] = figsize\n",
        "\n",
        "set_figsize()\n",
        "plt.scatter(features.asnumpy(), labels.asnumpy(), 1);  # 加分号只显示图"
      ],
      "metadata": {
        "colab": {
          "base_uri": "https://localhost:8080/",
          "height": 243
        },
        "id": "CDGd67N4L6YN",
        "outputId": "fc2db592-1fb1-42df-c995-89496360ddd0"
      },
      "execution_count": 14,
      "outputs": [
        {
          "output_type": "display_data",
          "data": {
            "text/plain": [
              "<Figure size 252x180 with 1 Axes>"
            ],
            "image/svg+xml": "<?xml version=\"1.0\" encoding=\"utf-8\" standalone=\"no\"?>\n<!DOCTYPE svg PUBLIC \"-//W3C//DTD SVG 1.1//EN\"\n  \"http://www.w3.org/Graphics/SVG/1.1/DTD/svg11.dtd\">\n<svg xmlns:xlink=\"http://www.w3.org/1999/xlink\" width=\"244.167187pt\" height=\"166.978125pt\" viewBox=\"0 0 244.167187 166.978125\" xmlns=\"http://www.w3.org/2000/svg\" version=\"1.1\">\n <metadata>\n  <rdf:RDF xmlns:dc=\"http://purl.org/dc/elements/1.1/\" xmlns:cc=\"http://creativecommons.org/ns#\" xmlns:rdf=\"http://www.w3.org/1999/02/22-rdf-syntax-ns#\">\n   <cc:Work>\n    <dc:type rdf:resource=\"http://purl.org/dc/dcmitype/StillImage\"/>\n    <dc:date>2023-03-06T13:58:11.589176</dc:date>\n    <dc:format>image/svg+xml</dc:format>\n    <dc:creator>\n     <cc:Agent>\n      <dc:title>Matplotlib v3.5.3, https://matplotlib.org/</dc:title>\n     </cc:Agent>\n    </dc:creator>\n   </cc:Work>\n  </rdf:RDF>\n </metadata>\n <defs>\n  <style type=\"text/css\">*{stroke-linejoin: round; stroke-linecap: butt}</style>\n </defs>\n <g id=\"figure_1\">\n  <g id=\"patch_1\">\n   <path d=\"M 0 166.978125 \nL 244.167187 166.978125 \nL 244.167187 0 \nL 0 0 \nL 0 166.978125 \nz\n\" style=\"fill: none\"/>\n  </g>\n  <g id=\"axes_1\">\n   <g id=\"patch_2\">\n    <path d=\"M 41.667187 143.1 \nL 236.967188 143.1 \nL 236.967188 7.2 \nL 41.667187 7.2 \nz\n\" style=\"fill: #ffffff\"/>\n   </g>\n   <g id=\"PathCollection_1\">\n    <defs>\n     <path id=\"m8c16b90ee5\" d=\"M 0 0.5 \nC 0.132602 0.5 0.25979 0.447317 0.353553 0.353553 \nC 0.447317 0.25979 0.5 0.132602 0.5 0 \nC 0.5 -0.132602 0.447317 -0.25979 0.353553 -0.353553 \nC 0.25979 -0.447317 0.132602 -0.5 0 -0.5 \nC -0.132602 -0.5 -0.25979 -0.447317 -0.353553 -0.353553 \nC -0.447317 -0.25979 -0.5 -0.132602 -0.5 0 \nC -0.5 0.132602 -0.447317 0.25979 -0.353553 0.353553 \nC -0.25979 0.447317 -0.132602 0.5 0 0.5 \nz\n\" style=\"stroke: #1f77b4\"/>\n    </defs>\n    <g clip-path=\"url(#p2a3578598f)\">\n     <use xlink:href=\"#m8c16b90ee5\" x=\"210.413402\" y=\"37.559269\" style=\"fill: #1f77b4; stroke: #1f77b4\"/>\n     <use xlink:href=\"#m8c16b90ee5\" x=\"164.773687\" y=\"59.675625\" style=\"fill: #1f77b4; stroke: #1f77b4\"/>\n     <use xlink:href=\"#m8c16b90ee5\" x=\"173.323948\" y=\"58.41135\" style=\"fill: #1f77b4; stroke: #1f77b4\"/>\n     <use xlink:href=\"#m8c16b90ee5\" x=\"177.782084\" y=\"57.364796\" style=\"fill: #1f77b4; stroke: #1f77b4\"/>\n     <use xlink:href=\"#m8c16b90ee5\" x=\"200.242859\" y=\"46.655396\" style=\"fill: #1f77b4; stroke: #1f77b4\"/>\n     <use xlink:href=\"#m8c16b90ee5\" x=\"101.028452\" y=\"68.713126\" style=\"fill: #1f77b4; stroke: #1f77b4\"/>\n     <use xlink:href=\"#m8c16b90ee5\" x=\"84.00998\" y=\"81.715048\" style=\"fill: #1f77b4; stroke: #1f77b4\"/>\n     <use xlink:href=\"#m8c16b90ee5\" x=\"125.887391\" y=\"61.242338\" style=\"fill: #1f77b4; stroke: #1f77b4\"/>\n     <use xlink:href=\"#m8c16b90ee5\" x=\"158.597636\" y=\"60.028146\" style=\"fill: #1f77b4; stroke: #1f77b4\"/>\n     <use xlink:href=\"#m8c16b90ee5\" x=\"81.310921\" y=\"84.633631\" style=\"fill: #1f77b4; stroke: #1f77b4\"/>\n     <use xlink:href=\"#m8c16b90ee5\" x=\"77.477546\" y=\"89.104707\" style=\"fill: #1f77b4; stroke: #1f77b4\"/>\n     <use xlink:href=\"#m8c16b90ee5\" x=\"133.610309\" y=\"60.539501\" style=\"fill: #1f77b4; stroke: #1f77b4\"/>\n     <use xlink:href=\"#m8c16b90ee5\" x=\"147.968008\" y=\"60.218429\" style=\"fill: #1f77b4; stroke: #1f77b4\"/>\n     <use xlink:href=\"#m8c16b90ee5\" x=\"139.03231\" y=\"60.324859\" style=\"fill: #1f77b4; stroke: #1f77b4\"/>\n     <use xlink:href=\"#m8c16b90ee5\" x=\"124.733374\" y=\"61.306502\" style=\"fill: #1f77b4; stroke: #1f77b4\"/>\n     <use xlink:href=\"#m8c16b90ee5\" x=\"139.493828\" y=\"60.300372\" style=\"fill: #1f77b4; stroke: #1f77b4\"/>\n     <use xlink:href=\"#m8c16b90ee5\" x=\"158.446285\" y=\"60.028258\" style=\"fill: #1f77b4; stroke: #1f77b4\"/>\n     <use xlink:href=\"#m8c16b90ee5\" x=\"186.737401\" y=\"54.392293\" style=\"fill: #1f77b4; stroke: #1f77b4\"/>\n     <use xlink:href=\"#m8c16b90ee5\" x=\"161.990202\" y=\"59.873922\" style=\"fill: #1f77b4; stroke: #1f77b4\"/>\n     <use xlink:href=\"#m8c16b90ee5\" x=\"151.475844\" y=\"60.225867\" style=\"fill: #1f77b4; stroke: #1f77b4\"/>\n     <use xlink:href=\"#m8c16b90ee5\" x=\"174.267372\" y=\"58.197589\" style=\"fill: #1f77b4; stroke: #1f77b4\"/>\n     <use xlink:href=\"#m8c16b90ee5\" x=\"144.025165\" y=\"60.270066\" style=\"fill: #1f77b4; stroke: #1f77b4\"/>\n     <use xlink:href=\"#m8c16b90ee5\" x=\"109.394488\" y=\"64.93718\" style=\"fill: #1f77b4; stroke: #1f77b4\"/>\n     <use xlink:href=\"#m8c16b90ee5\" x=\"115.595715\" y=\"63.116331\" style=\"fill: #1f77b4; stroke: #1f77b4\"/>\n     <use xlink:href=\"#m8c16b90ee5\" x=\"115.198376\" y=\"63.188734\" style=\"fill: #1f77b4; stroke: #1f77b4\"/>\n     <use xlink:href=\"#m8c16b90ee5\" x=\"163.750872\" y=\"59.637537\" style=\"fill: #1f77b4; stroke: #1f77b4\"/>\n     <use xlink:href=\"#m8c16b90ee5\" x=\"93.453504\" y=\"73.567982\" style=\"fill: #1f77b4; stroke: #1f77b4\"/>\n     <use xlink:href=\"#m8c16b90ee5\" x=\"106.158187\" y=\"66.220223\" style=\"fill: #1f77b4; stroke: #1f77b4\"/>\n     <use xlink:href=\"#m8c16b90ee5\" x=\"107.129563\" y=\"65.803747\" style=\"fill: #1f77b4; stroke: #1f77b4\"/>\n     <use xlink:href=\"#m8c16b90ee5\" x=\"98.072651\" y=\"70.485652\" style=\"fill: #1f77b4; stroke: #1f77b4\"/>\n     <use xlink:href=\"#m8c16b90ee5\" x=\"93.405195\" y=\"73.585963\" style=\"fill: #1f77b4; stroke: #1f77b4\"/>\n     <use xlink:href=\"#m8c16b90ee5\" x=\"123.578515\" y=\"61.454901\" style=\"fill: #1f77b4; stroke: #1f77b4\"/>\n     <use xlink:href=\"#m8c16b90ee5\" x=\"180.394736\" y=\"56.800415\" style=\"fill: #1f77b4; stroke: #1f77b4\"/>\n     <use xlink:href=\"#m8c16b90ee5\" x=\"168.6154\" y=\"59.14082\" style=\"fill: #1f77b4; stroke: #1f77b4\"/>\n     <use xlink:href=\"#m8c16b90ee5\" x=\"121.120647\" y=\"61.793291\" style=\"fill: #1f77b4; stroke: #1f77b4\"/>\n     <use xlink:href=\"#m8c16b90ee5\" x=\"178.420899\" y=\"57.252129\" style=\"fill: #1f77b4; stroke: #1f77b4\"/>\n     <use xlink:href=\"#m8c16b90ee5\" x=\"109.391027\" y=\"64.970675\" style=\"fill: #1f77b4; stroke: #1f77b4\"/>\n     <use xlink:href=\"#m8c16b90ee5\" x=\"121.724613\" y=\"61.877046\" style=\"fill: #1f77b4; stroke: #1f77b4\"/>\n     <use xlink:href=\"#m8c16b90ee5\" x=\"152.007281\" y=\"60.242854\" style=\"fill: #1f77b4; stroke: #1f77b4\"/>\n     <use xlink:href=\"#m8c16b90ee5\" x=\"169.724278\" y=\"58.981624\" style=\"fill: #1f77b4; stroke: #1f77b4\"/>\n     <use xlink:href=\"#m8c16b90ee5\" x=\"95.067754\" y=\"72.415297\" style=\"fill: #1f77b4; stroke: #1f77b4\"/>\n     <use xlink:href=\"#m8c16b90ee5\" x=\"123.785485\" y=\"61.385774\" style=\"fill: #1f77b4; stroke: #1f77b4\"/>\n     <use xlink:href=\"#m8c16b90ee5\" x=\"203.959564\" y=\"43.719293\" style=\"fill: #1f77b4; stroke: #1f77b4\"/>\n     <use xlink:href=\"#m8c16b90ee5\" x=\"149.297234\" y=\"60.327686\" style=\"fill: #1f77b4; stroke: #1f77b4\"/>\n     <use xlink:href=\"#m8c16b90ee5\" x=\"157.997103\" y=\"60.012751\" style=\"fill: #1f77b4; stroke: #1f77b4\"/>\n     <use xlink:href=\"#m8c16b90ee5\" x=\"170.985779\" y=\"58.795214\" style=\"fill: #1f77b4; stroke: #1f77b4\"/>\n     <use xlink:href=\"#m8c16b90ee5\" x=\"123.439029\" y=\"61.354693\" style=\"fill: #1f77b4; stroke: #1f77b4\"/>\n     <use xlink:href=\"#m8c16b90ee5\" x=\"80.263451\" y=\"85.85002\" style=\"fill: #1f77b4; stroke: #1f77b4\"/>\n     <use xlink:href=\"#m8c16b90ee5\" x=\"160.990613\" y=\"59.806926\" style=\"fill: #1f77b4; stroke: #1f77b4\"/>\n     <use xlink:href=\"#m8c16b90ee5\" x=\"125.778586\" y=\"61.233073\" style=\"fill: #1f77b4; stroke: #1f77b4\"/>\n     <use xlink:href=\"#m8c16b90ee5\" x=\"149.934805\" y=\"60.189617\" style=\"fill: #1f77b4; stroke: #1f77b4\"/>\n     <use xlink:href=\"#m8c16b90ee5\" x=\"126.744149\" y=\"61.09047\" style=\"fill: #1f77b4; stroke: #1f77b4\"/>\n     <use xlink:href=\"#m8c16b90ee5\" x=\"133.720506\" y=\"60.559015\" style=\"fill: #1f77b4; stroke: #1f77b4\"/>\n     <use xlink:href=\"#m8c16b90ee5\" x=\"126.606062\" y=\"61.13337\" style=\"fill: #1f77b4; stroke: #1f77b4\"/>\n     <use xlink:href=\"#m8c16b90ee5\" x=\"181.639231\" y=\"56.279113\" style=\"fill: #1f77b4; stroke: #1f77b4\"/>\n     <use xlink:href=\"#m8c16b90ee5\" x=\"160.75849\" y=\"59.890844\" style=\"fill: #1f77b4; stroke: #1f77b4\"/>\n     <use xlink:href=\"#m8c16b90ee5\" x=\"178.109232\" y=\"57.360697\" style=\"fill: #1f77b4; stroke: #1f77b4\"/>\n     <use xlink:href=\"#m8c16b90ee5\" x=\"84.979616\" y=\"80.750994\" style=\"fill: #1f77b4; stroke: #1f77b4\"/>\n     <use xlink:href=\"#m8c16b90ee5\" x=\"148.484903\" y=\"60.215225\" style=\"fill: #1f77b4; stroke: #1f77b4\"/>\n     <use xlink:href=\"#m8c16b90ee5\" x=\"131.712414\" y=\"60.697782\" style=\"fill: #1f77b4; stroke: #1f77b4\"/>\n     <use xlink:href=\"#m8c16b90ee5\" x=\"130.24598\" y=\"60.753751\" style=\"fill: #1f77b4; stroke: #1f77b4\"/>\n     <use xlink:href=\"#m8c16b90ee5\" x=\"141.279568\" y=\"60.247645\" style=\"fill: #1f77b4; stroke: #1f77b4\"/>\n     <use xlink:href=\"#m8c16b90ee5\" x=\"159.721084\" y=\"60.006924\" style=\"fill: #1f77b4; stroke: #1f77b4\"/>\n     <use xlink:href=\"#m8c16b90ee5\" x=\"102.39359\" y=\"67.959067\" style=\"fill: #1f77b4; stroke: #1f77b4\"/>\n     <use xlink:href=\"#m8c16b90ee5\" x=\"76.955001\" y=\"89.786667\" style=\"fill: #1f77b4; stroke: #1f77b4\"/>\n     <use xlink:href=\"#m8c16b90ee5\" x=\"159.300194\" y=\"59.978813\" style=\"fill: #1f77b4; stroke: #1f77b4\"/>\n     <use xlink:href=\"#m8c16b90ee5\" x=\"160.50242\" y=\"59.87986\" style=\"fill: #1f77b4; stroke: #1f77b4\"/>\n     <use xlink:href=\"#m8c16b90ee5\" x=\"121.073133\" y=\"61.896116\" style=\"fill: #1f77b4; stroke: #1f77b4\"/>\n     <use xlink:href=\"#m8c16b90ee5\" x=\"146.027555\" y=\"60.302827\" style=\"fill: #1f77b4; stroke: #1f77b4\"/>\n     <use xlink:href=\"#m8c16b90ee5\" x=\"151.487531\" y=\"60.205798\" style=\"fill: #1f77b4; stroke: #1f77b4\"/>\n     <use xlink:href=\"#m8c16b90ee5\" x=\"146.503261\" y=\"60.366825\" style=\"fill: #1f77b4; stroke: #1f77b4\"/>\n     <use xlink:href=\"#m8c16b90ee5\" x=\"197.105237\" y=\"48.841045\" style=\"fill: #1f77b4; stroke: #1f77b4\"/>\n     <use xlink:href=\"#m8c16b90ee5\" x=\"137.040474\" y=\"60.501284\" style=\"fill: #1f77b4; stroke: #1f77b4\"/>\n     <use xlink:href=\"#m8c16b90ee5\" x=\"95.747138\" y=\"71.89771\" style=\"fill: #1f77b4; stroke: #1f77b4\"/>\n     <use xlink:href=\"#m8c16b90ee5\" x=\"105.024964\" y=\"66.744753\" style=\"fill: #1f77b4; stroke: #1f77b4\"/>\n     <use xlink:href=\"#m8c16b90ee5\" x=\"113.957513\" y=\"63.591382\" style=\"fill: #1f77b4; stroke: #1f77b4\"/>\n     <use xlink:href=\"#m8c16b90ee5\" x=\"173.234973\" y=\"58.497801\" style=\"fill: #1f77b4; stroke: #1f77b4\"/>\n     <use xlink:href=\"#m8c16b90ee5\" x=\"130.46817\" y=\"60.714396\" style=\"fill: #1f77b4; stroke: #1f77b4\"/>\n     <use xlink:href=\"#m8c16b90ee5\" x=\"161.732625\" y=\"59.864793\" style=\"fill: #1f77b4; stroke: #1f77b4\"/>\n     <use xlink:href=\"#m8c16b90ee5\" x=\"113.454508\" y=\"63.633688\" style=\"fill: #1f77b4; stroke: #1f77b4\"/>\n     <use xlink:href=\"#m8c16b90ee5\" x=\"126.738223\" y=\"61.11745\" style=\"fill: #1f77b4; stroke: #1f77b4\"/>\n     <use xlink:href=\"#m8c16b90ee5\" x=\"119.572856\" y=\"62.164571\" style=\"fill: #1f77b4; stroke: #1f77b4\"/>\n     <use xlink:href=\"#m8c16b90ee5\" x=\"93.322976\" y=\"73.671976\" style=\"fill: #1f77b4; stroke: #1f77b4\"/>\n     <use xlink:href=\"#m8c16b90ee5\" x=\"157.943286\" y=\"60.028297\" style=\"fill: #1f77b4; stroke: #1f77b4\"/>\n     <use xlink:href=\"#m8c16b90ee5\" x=\"119.644787\" y=\"62.164517\" style=\"fill: #1f77b4; stroke: #1f77b4\"/>\n     <use xlink:href=\"#m8c16b90ee5\" x=\"142.532401\" y=\"60.283657\" style=\"fill: #1f77b4; stroke: #1f77b4\"/>\n     <use xlink:href=\"#m8c16b90ee5\" x=\"158.413481\" y=\"60.049599\" style=\"fill: #1f77b4; stroke: #1f77b4\"/>\n     <use xlink:href=\"#m8c16b90ee5\" x=\"111.53535\" y=\"64.237015\" style=\"fill: #1f77b4; stroke: #1f77b4\"/>\n     <use xlink:href=\"#m8c16b90ee5\" x=\"224.331829\" y=\"19.57609\" style=\"fill: #1f77b4; stroke: #1f77b4\"/>\n     <use xlink:href=\"#m8c16b90ee5\" x=\"143.172115\" y=\"60.288234\" style=\"fill: #1f77b4; stroke: #1f77b4\"/>\n     <use xlink:href=\"#m8c16b90ee5\" x=\"200.929495\" y=\"46.152407\" style=\"fill: #1f77b4; stroke: #1f77b4\"/>\n     <use xlink:href=\"#m8c16b90ee5\" x=\"91.448246\" y=\"75.075975\" style=\"fill: #1f77b4; stroke: #1f77b4\"/>\n     <use xlink:href=\"#m8c16b90ee5\" x=\"107.971993\" y=\"65.511627\" style=\"fill: #1f77b4; stroke: #1f77b4\"/>\n     <use xlink:href=\"#m8c16b90ee5\" x=\"142.737524\" y=\"60.320974\" style=\"fill: #1f77b4; stroke: #1f77b4\"/>\n     <use xlink:href=\"#m8c16b90ee5\" x=\"158.660592\" y=\"60.042987\" style=\"fill: #1f77b4; stroke: #1f77b4\"/>\n     <use xlink:href=\"#m8c16b90ee5\" x=\"138.011362\" y=\"60.463757\" style=\"fill: #1f77b4; stroke: #1f77b4\"/>\n     <use xlink:href=\"#m8c16b90ee5\" x=\"175.195421\" y=\"58.024125\" style=\"fill: #1f77b4; stroke: #1f77b4\"/>\n     <use xlink:href=\"#m8c16b90ee5\" x=\"121.024363\" y=\"61.927496\" style=\"fill: #1f77b4; stroke: #1f77b4\"/>\n     <use xlink:href=\"#m8c16b90ee5\" x=\"112.245011\" y=\"64.030371\" style=\"fill: #1f77b4; stroke: #1f77b4\"/>\n     <use xlink:href=\"#m8c16b90ee5\" x=\"186.581856\" y=\"54.522237\" style=\"fill: #1f77b4; stroke: #1f77b4\"/>\n     <use xlink:href=\"#m8c16b90ee5\" x=\"98.858994\" y=\"69.936214\" style=\"fill: #1f77b4; stroke: #1f77b4\"/>\n     <use xlink:href=\"#m8c16b90ee5\" x=\"160.584065\" y=\"59.846363\" style=\"fill: #1f77b4; stroke: #1f77b4\"/>\n     <use xlink:href=\"#m8c16b90ee5\" x=\"119.518737\" y=\"62.189433\" style=\"fill: #1f77b4; stroke: #1f77b4\"/>\n     <use xlink:href=\"#m8c16b90ee5\" x=\"84.122444\" y=\"81.678271\" style=\"fill: #1f77b4; stroke: #1f77b4\"/>\n     <use xlink:href=\"#m8c16b90ee5\" x=\"111.082141\" y=\"64.486358\" style=\"fill: #1f77b4; stroke: #1f77b4\"/>\n     <use xlink:href=\"#m8c16b90ee5\" x=\"160.865748\" y=\"59.845411\" style=\"fill: #1f77b4; stroke: #1f77b4\"/>\n     <use xlink:href=\"#m8c16b90ee5\" x=\"111.338581\" y=\"64.263378\" style=\"fill: #1f77b4; stroke: #1f77b4\"/>\n     <use xlink:href=\"#m8c16b90ee5\" x=\"135.739432\" y=\"60.411784\" style=\"fill: #1f77b4; stroke: #1f77b4\"/>\n     <use xlink:href=\"#m8c16b90ee5\" x=\"164.984397\" y=\"59.564165\" style=\"fill: #1f77b4; stroke: #1f77b4\"/>\n     <use xlink:href=\"#m8c16b90ee5\" x=\"176.977114\" y=\"57.613582\" style=\"fill: #1f77b4; stroke: #1f77b4\"/>\n     <use xlink:href=\"#m8c16b90ee5\" x=\"202.653043\" y=\"44.862206\" style=\"fill: #1f77b4; stroke: #1f77b4\"/>\n     <use xlink:href=\"#m8c16b90ee5\" x=\"140.071628\" y=\"60.271187\" style=\"fill: #1f77b4; stroke: #1f77b4\"/>\n     <use xlink:href=\"#m8c16b90ee5\" x=\"222.900239\" y=\"21.756345\" style=\"fill: #1f77b4; stroke: #1f77b4\"/>\n     <use xlink:href=\"#m8c16b90ee5\" x=\"158.796747\" y=\"60.055307\" style=\"fill: #1f77b4; stroke: #1f77b4\"/>\n     <use xlink:href=\"#m8c16b90ee5\" x=\"118.098844\" y=\"62.428969\" style=\"fill: #1f77b4; stroke: #1f77b4\"/>\n     <use xlink:href=\"#m8c16b90ee5\" x=\"144.980185\" y=\"60.281893\" style=\"fill: #1f77b4; stroke: #1f77b4\"/>\n     <use xlink:href=\"#m8c16b90ee5\" x=\"58.023628\" y=\"120.462871\" style=\"fill: #1f77b4; stroke: #1f77b4\"/>\n     <use xlink:href=\"#m8c16b90ee5\" x=\"130.163362\" y=\"60.710872\" style=\"fill: #1f77b4; stroke: #1f77b4\"/>\n     <use xlink:href=\"#m8c16b90ee5\" x=\"79.982164\" y=\"86.07077\" style=\"fill: #1f77b4; stroke: #1f77b4\"/>\n     <use xlink:href=\"#m8c16b90ee5\" x=\"135.145937\" y=\"60.426293\" style=\"fill: #1f77b4; stroke: #1f77b4\"/>\n     <use xlink:href=\"#m8c16b90ee5\" x=\"109.193028\" y=\"65.100043\" style=\"fill: #1f77b4; stroke: #1f77b4\"/>\n     <use xlink:href=\"#m8c16b90ee5\" x=\"139.685155\" y=\"60.246362\" style=\"fill: #1f77b4; stroke: #1f77b4\"/>\n     <use xlink:href=\"#m8c16b90ee5\" x=\"183.214933\" y=\"55.792622\" style=\"fill: #1f77b4; stroke: #1f77b4\"/>\n     <use xlink:href=\"#m8c16b90ee5\" x=\"117.724375\" y=\"62.572488\" style=\"fill: #1f77b4; stroke: #1f77b4\"/>\n     <use xlink:href=\"#m8c16b90ee5\" x=\"148.225409\" y=\"60.248033\" style=\"fill: #1f77b4; stroke: #1f77b4\"/>\n     <use xlink:href=\"#m8c16b90ee5\" x=\"152.683921\" y=\"60.193049\" style=\"fill: #1f77b4; stroke: #1f77b4\"/>\n     <use xlink:href=\"#m8c16b90ee5\" x=\"107.704052\" y=\"65.564284\" style=\"fill: #1f77b4; stroke: #1f77b4\"/>\n     <use xlink:href=\"#m8c16b90ee5\" x=\"69.918619\" y=\"99.514475\" style=\"fill: #1f77b4; stroke: #1f77b4\"/>\n     <use xlink:href=\"#m8c16b90ee5\" x=\"135.471624\" y=\"60.424319\" style=\"fill: #1f77b4; stroke: #1f77b4\"/>\n     <use xlink:href=\"#m8c16b90ee5\" x=\"184.097621\" y=\"55.418947\" style=\"fill: #1f77b4; stroke: #1f77b4\"/>\n     <use xlink:href=\"#m8c16b90ee5\" x=\"186.446941\" y=\"54.499908\" style=\"fill: #1f77b4; stroke: #1f77b4\"/>\n     <use xlink:href=\"#m8c16b90ee5\" x=\"207.343771\" y=\"40.645176\" style=\"fill: #1f77b4; stroke: #1f77b4\"/>\n     <use xlink:href=\"#m8c16b90ee5\" x=\"188.113029\" y=\"53.816683\" style=\"fill: #1f77b4; stroke: #1f77b4\"/>\n     <use xlink:href=\"#m8c16b90ee5\" x=\"109.066535\" y=\"65.098944\" style=\"fill: #1f77b4; stroke: #1f77b4\"/>\n     <use xlink:href=\"#m8c16b90ee5\" x=\"132.897425\" y=\"60.606096\" style=\"fill: #1f77b4; stroke: #1f77b4\"/>\n     <use xlink:href=\"#m8c16b90ee5\" x=\"165.455086\" y=\"59.518573\" style=\"fill: #1f77b4; stroke: #1f77b4\"/>\n     <use xlink:href=\"#m8c16b90ee5\" x=\"140.563903\" y=\"60.340982\" style=\"fill: #1f77b4; stroke: #1f77b4\"/>\n     <use xlink:href=\"#m8c16b90ee5\" x=\"92.289635\" y=\"74.524214\" style=\"fill: #1f77b4; stroke: #1f77b4\"/>\n     <use xlink:href=\"#m8c16b90ee5\" x=\"99.322737\" y=\"69.727797\" style=\"fill: #1f77b4; stroke: #1f77b4\"/>\n     <use xlink:href=\"#m8c16b90ee5\" x=\"89.369761\" y=\"76.711552\" style=\"fill: #1f77b4; stroke: #1f77b4\"/>\n     <use xlink:href=\"#m8c16b90ee5\" x=\"181.846326\" y=\"56.21977\" style=\"fill: #1f77b4; stroke: #1f77b4\"/>\n     <use xlink:href=\"#m8c16b90ee5\" x=\"77.924319\" y=\"88.523828\" style=\"fill: #1f77b4; stroke: #1f77b4\"/>\n     <use xlink:href=\"#m8c16b90ee5\" x=\"134.602597\" y=\"60.491939\" style=\"fill: #1f77b4; stroke: #1f77b4\"/>\n     <use xlink:href=\"#m8c16b90ee5\" x=\"84.751419\" y=\"80.978596\" style=\"fill: #1f77b4; stroke: #1f77b4\"/>\n     <use xlink:href=\"#m8c16b90ee5\" x=\"182.603692\" y=\"56.024741\" style=\"fill: #1f77b4; stroke: #1f77b4\"/>\n     <use xlink:href=\"#m8c16b90ee5\" x=\"175.310322\" y=\"57.996272\" style=\"fill: #1f77b4; stroke: #1f77b4\"/>\n     <use xlink:href=\"#m8c16b90ee5\" x=\"141.837895\" y=\"60.272471\" style=\"fill: #1f77b4; stroke: #1f77b4\"/>\n     <use xlink:href=\"#m8c16b90ee5\" x=\"96.414666\" y=\"71.474059\" style=\"fill: #1f77b4; stroke: #1f77b4\"/>\n     <use xlink:href=\"#m8c16b90ee5\" x=\"126.872714\" y=\"61.034803\" style=\"fill: #1f77b4; stroke: #1f77b4\"/>\n     <use xlink:href=\"#m8c16b90ee5\" x=\"140.311587\" y=\"60.43559\" style=\"fill: #1f77b4; stroke: #1f77b4\"/>\n     <use xlink:href=\"#m8c16b90ee5\" x=\"116.16516\" y=\"62.97875\" style=\"fill: #1f77b4; stroke: #1f77b4\"/>\n     <use xlink:href=\"#m8c16b90ee5\" x=\"165.978798\" y=\"59.442926\" style=\"fill: #1f77b4; stroke: #1f77b4\"/>\n     <use xlink:href=\"#m8c16b90ee5\" x=\"119.064041\" y=\"62.281156\" style=\"fill: #1f77b4; stroke: #1f77b4\"/>\n     <use xlink:href=\"#m8c16b90ee5\" x=\"228.089915\" y=\"13.377273\" style=\"fill: #1f77b4; stroke: #1f77b4\"/>\n     <use xlink:href=\"#m8c16b90ee5\" x=\"135.415834\" y=\"60.414029\" style=\"fill: #1f77b4; stroke: #1f77b4\"/>\n     <use xlink:href=\"#m8c16b90ee5\" x=\"119.180677\" y=\"62.238825\" style=\"fill: #1f77b4; stroke: #1f77b4\"/>\n     <use xlink:href=\"#m8c16b90ee5\" x=\"197.769962\" y=\"48.482157\" style=\"fill: #1f77b4; stroke: #1f77b4\"/>\n     <use xlink:href=\"#m8c16b90ee5\" x=\"73.224141\" y=\"94.684226\" style=\"fill: #1f77b4; stroke: #1f77b4\"/>\n     <use xlink:href=\"#m8c16b90ee5\" x=\"102.813375\" y=\"67.771549\" style=\"fill: #1f77b4; stroke: #1f77b4\"/>\n     <use xlink:href=\"#m8c16b90ee5\" x=\"112.397987\" y=\"63.975511\" style=\"fill: #1f77b4; stroke: #1f77b4\"/>\n     <use xlink:href=\"#m8c16b90ee5\" x=\"137.507331\" y=\"60.409181\" style=\"fill: #1f77b4; stroke: #1f77b4\"/>\n     <use xlink:href=\"#m8c16b90ee5\" x=\"165.53024\" y=\"59.537464\" style=\"fill: #1f77b4; stroke: #1f77b4\"/>\n     <use xlink:href=\"#m8c16b90ee5\" x=\"153.790609\" y=\"60.136738\" style=\"fill: #1f77b4; stroke: #1f77b4\"/>\n     <use xlink:href=\"#m8c16b90ee5\" x=\"120.9107\" y=\"61.988003\" style=\"fill: #1f77b4; stroke: #1f77b4\"/>\n     <use xlink:href=\"#m8c16b90ee5\" x=\"182.722553\" y=\"55.970308\" style=\"fill: #1f77b4; stroke: #1f77b4\"/>\n     <use xlink:href=\"#m8c16b90ee5\" x=\"109.025285\" y=\"65.135849\" style=\"fill: #1f77b4; stroke: #1f77b4\"/>\n     <use xlink:href=\"#m8c16b90ee5\" x=\"164.290992\" y=\"59.641028\" style=\"fill: #1f77b4; stroke: #1f77b4\"/>\n     <use xlink:href=\"#m8c16b90ee5\" x=\"86.569818\" y=\"79.252213\" style=\"fill: #1f77b4; stroke: #1f77b4\"/>\n     <use xlink:href=\"#m8c16b90ee5\" x=\"135.163529\" y=\"60.533644\" style=\"fill: #1f77b4; stroke: #1f77b4\"/>\n     <use xlink:href=\"#m8c16b90ee5\" x=\"190.557887\" y=\"52.6657\" style=\"fill: #1f77b4; stroke: #1f77b4\"/>\n     <use xlink:href=\"#m8c16b90ee5\" x=\"159.589147\" y=\"60.033264\" style=\"fill: #1f77b4; stroke: #1f77b4\"/>\n     <use xlink:href=\"#m8c16b90ee5\" x=\"105.955215\" y=\"66.446798\" style=\"fill: #1f77b4; stroke: #1f77b4\"/>\n     <use xlink:href=\"#m8c16b90ee5\" x=\"150.282382\" y=\"60.221173\" style=\"fill: #1f77b4; stroke: #1f77b4\"/>\n     <use xlink:href=\"#m8c16b90ee5\" x=\"187.843576\" y=\"53.980691\" style=\"fill: #1f77b4; stroke: #1f77b4\"/>\n     <use xlink:href=\"#m8c16b90ee5\" x=\"102.102279\" y=\"68.156266\" style=\"fill: #1f77b4; stroke: #1f77b4\"/>\n     <use xlink:href=\"#m8c16b90ee5\" x=\"130.019502\" y=\"60.759345\" style=\"fill: #1f77b4; stroke: #1f77b4\"/>\n     <use xlink:href=\"#m8c16b90ee5\" x=\"102.956303\" y=\"67.666129\" style=\"fill: #1f77b4; stroke: #1f77b4\"/>\n     <use xlink:href=\"#m8c16b90ee5\" x=\"134.607065\" y=\"60.530085\" style=\"fill: #1f77b4; stroke: #1f77b4\"/>\n     <use xlink:href=\"#m8c16b90ee5\" x=\"176.880557\" y=\"57.620311\" style=\"fill: #1f77b4; stroke: #1f77b4\"/>\n     <use xlink:href=\"#m8c16b90ee5\" x=\"195.525287\" y=\"49.849939\" style=\"fill: #1f77b4; stroke: #1f77b4\"/>\n     <use xlink:href=\"#m8c16b90ee5\" x=\"135.154113\" y=\"60.553472\" style=\"fill: #1f77b4; stroke: #1f77b4\"/>\n     <use xlink:href=\"#m8c16b90ee5\" x=\"117.517897\" y=\"62.563266\" style=\"fill: #1f77b4; stroke: #1f77b4\"/>\n     <use xlink:href=\"#m8c16b90ee5\" x=\"183.410732\" y=\"55.632597\" style=\"fill: #1f77b4; stroke: #1f77b4\"/>\n     <use xlink:href=\"#m8c16b90ee5\" x=\"192.628655\" y=\"51.557825\" style=\"fill: #1f77b4; stroke: #1f77b4\"/>\n     <use xlink:href=\"#m8c16b90ee5\" x=\"162.527458\" y=\"59.82592\" style=\"fill: #1f77b4; stroke: #1f77b4\"/>\n     <use xlink:href=\"#m8c16b90ee5\" x=\"110.742101\" y=\"64.544325\" style=\"fill: #1f77b4; stroke: #1f77b4\"/>\n     <use xlink:href=\"#m8c16b90ee5\" x=\"205.643931\" y=\"42.243748\" style=\"fill: #1f77b4; stroke: #1f77b4\"/>\n     <use xlink:href=\"#m8c16b90ee5\" x=\"152.84883\" y=\"60.279945\" style=\"fill: #1f77b4; stroke: #1f77b4\"/>\n     <use xlink:href=\"#m8c16b90ee5\" x=\"172.446912\" y=\"58.591028\" style=\"fill: #1f77b4; stroke: #1f77b4\"/>\n     <use xlink:href=\"#m8c16b90ee5\" x=\"167.618943\" y=\"59.373296\" style=\"fill: #1f77b4; stroke: #1f77b4\"/>\n     <use xlink:href=\"#m8c16b90ee5\" x=\"114.542426\" y=\"63.354383\" style=\"fill: #1f77b4; stroke: #1f77b4\"/>\n     <use xlink:href=\"#m8c16b90ee5\" x=\"115.180659\" y=\"63.207962\" style=\"fill: #1f77b4; stroke: #1f77b4\"/>\n     <use xlink:href=\"#m8c16b90ee5\" x=\"160.8135\" y=\"59.86068\" style=\"fill: #1f77b4; stroke: #1f77b4\"/>\n     <use xlink:href=\"#m8c16b90ee5\" x=\"179.392964\" y=\"56.989962\" style=\"fill: #1f77b4; stroke: #1f77b4\"/>\n     <use xlink:href=\"#m8c16b90ee5\" x=\"148.405379\" y=\"60.23322\" style=\"fill: #1f77b4; stroke: #1f77b4\"/>\n     <use xlink:href=\"#m8c16b90ee5\" x=\"50.54446\" y=\"136.922727\" style=\"fill: #1f77b4; stroke: #1f77b4\"/>\n     <use xlink:href=\"#m8c16b90ee5\" x=\"96.664883\" y=\"71.320572\" style=\"fill: #1f77b4; stroke: #1f77b4\"/>\n     <use xlink:href=\"#m8c16b90ee5\" x=\"144.800095\" y=\"60.298342\" style=\"fill: #1f77b4; stroke: #1f77b4\"/>\n     <use xlink:href=\"#m8c16b90ee5\" x=\"131.218531\" y=\"60.77688\" style=\"fill: #1f77b4; stroke: #1f77b4\"/>\n     <use xlink:href=\"#m8c16b90ee5\" x=\"170.769153\" y=\"58.906228\" style=\"fill: #1f77b4; stroke: #1f77b4\"/>\n    </g>\n   </g>\n   <g id=\"matplotlib.axis_1\">\n    <g id=\"xtick_1\">\n     <g id=\"line2d_1\">\n      <defs>\n       <path id=\"mdde9e265be\" d=\"M 0 0 \nL 0 3.5 \n\" style=\"stroke: #000000; stroke-width: 0.8\"/>\n      </defs>\n      <g>\n       <use xlink:href=\"#mdde9e265be\" x=\"76.743847\" y=\"143.1\" style=\"stroke: #000000; stroke-width: 0.8\"/>\n      </g>\n     </g>\n     <g id=\"text_1\">\n      <!-- −2 -->\n      <g transform=\"translate(69.372753 157.698438)scale(0.1 -0.1)\">\n       <defs>\n        <path id=\"DejaVuSans-2212\" d=\"M 678 2272 \nL 4684 2272 \nL 4684 1741 \nL 678 1741 \nL 678 2272 \nz\n\" transform=\"scale(0.015625)\"/>\n        <path id=\"DejaVuSans-32\" d=\"M 1228 531 \nL 3431 531 \nL 3431 0 \nL 469 0 \nL 469 531 \nQ 828 903 1448 1529 \nQ 2069 2156 2228 2338 \nQ 2531 2678 2651 2914 \nQ 2772 3150 2772 3378 \nQ 2772 3750 2511 3984 \nQ 2250 4219 1831 4219 \nQ 1534 4219 1204 4116 \nQ 875 4013 500 3803 \nL 500 4441 \nQ 881 4594 1212 4672 \nQ 1544 4750 1819 4750 \nQ 2544 4750 2975 4387 \nQ 3406 4025 3406 3419 \nQ 3406 3131 3298 2873 \nQ 3191 2616 2906 2266 \nQ 2828 2175 2409 1742 \nQ 1991 1309 1228 531 \nz\n\" transform=\"scale(0.015625)\"/>\n       </defs>\n       <use xlink:href=\"#DejaVuSans-2212\"/>\n       <use xlink:href=\"#DejaVuSans-32\" x=\"83.789062\"/>\n      </g>\n     </g>\n    </g>\n    <g id=\"xtick_2\">\n     <g id=\"line2d_2\">\n      <g>\n       <use xlink:href=\"#mdde9e265be\" x=\"140.211561\" y=\"143.1\" style=\"stroke: #000000; stroke-width: 0.8\"/>\n      </g>\n     </g>\n     <g id=\"text_2\">\n      <!-- 0 -->\n      <g transform=\"translate(137.030311 157.698438)scale(0.1 -0.1)\">\n       <defs>\n        <path id=\"DejaVuSans-30\" d=\"M 2034 4250 \nQ 1547 4250 1301 3770 \nQ 1056 3291 1056 2328 \nQ 1056 1369 1301 889 \nQ 1547 409 2034 409 \nQ 2525 409 2770 889 \nQ 3016 1369 3016 2328 \nQ 3016 3291 2770 3770 \nQ 2525 4250 2034 4250 \nz\nM 2034 4750 \nQ 2819 4750 3233 4129 \nQ 3647 3509 3647 2328 \nQ 3647 1150 3233 529 \nQ 2819 -91 2034 -91 \nQ 1250 -91 836 529 \nQ 422 1150 422 2328 \nQ 422 3509 836 4129 \nQ 1250 4750 2034 4750 \nz\n\" transform=\"scale(0.015625)\"/>\n       </defs>\n       <use xlink:href=\"#DejaVuSans-30\"/>\n      </g>\n     </g>\n    </g>\n    <g id=\"xtick_3\">\n     <g id=\"line2d_3\">\n      <g>\n       <use xlink:href=\"#mdde9e265be\" x=\"203.679276\" y=\"143.1\" style=\"stroke: #000000; stroke-width: 0.8\"/>\n      </g>\n     </g>\n     <g id=\"text_3\">\n      <!-- 2 -->\n      <g transform=\"translate(200.498026 157.698438)scale(0.1 -0.1)\">\n       <use xlink:href=\"#DejaVuSans-32\"/>\n      </g>\n     </g>\n    </g>\n   </g>\n   <g id=\"matplotlib.axis_2\">\n    <g id=\"ytick_1\">\n     <g id=\"line2d_4\">\n      <defs>\n       <path id=\"m6b2c4f2093\" d=\"M 0 0 \nL -3.5 0 \n\" style=\"stroke: #000000; stroke-width: 0.8\"/>\n      </defs>\n      <g>\n       <use xlink:href=\"#m6b2c4f2093\" x=\"41.667187\" y=\"135.985505\" style=\"stroke: #000000; stroke-width: 0.8\"/>\n      </g>\n     </g>\n     <g id=\"text_4\">\n      <!-- −150 -->\n      <g transform=\"translate(7.2 139.784724)scale(0.1 -0.1)\">\n       <defs>\n        <path id=\"DejaVuSans-31\" d=\"M 794 531 \nL 1825 531 \nL 1825 4091 \nL 703 3866 \nL 703 4441 \nL 1819 4666 \nL 2450 4666 \nL 2450 531 \nL 3481 531 \nL 3481 0 \nL 794 0 \nL 794 531 \nz\n\" transform=\"scale(0.015625)\"/>\n        <path id=\"DejaVuSans-35\" d=\"M 691 4666 \nL 3169 4666 \nL 3169 4134 \nL 1269 4134 \nL 1269 2991 \nQ 1406 3038 1543 3061 \nQ 1681 3084 1819 3084 \nQ 2600 3084 3056 2656 \nQ 3513 2228 3513 1497 \nQ 3513 744 3044 326 \nQ 2575 -91 1722 -91 \nQ 1428 -91 1123 -41 \nQ 819 9 494 109 \nL 494 744 \nQ 775 591 1075 516 \nQ 1375 441 1709 441 \nQ 2250 441 2565 725 \nQ 2881 1009 2881 1497 \nQ 2881 1984 2565 2268 \nQ 2250 2553 1709 2553 \nQ 1456 2553 1204 2497 \nQ 953 2441 691 2322 \nL 691 4666 \nz\n\" transform=\"scale(0.015625)\"/>\n       </defs>\n       <use xlink:href=\"#DejaVuSans-2212\"/>\n       <use xlink:href=\"#DejaVuSans-31\" x=\"83.789062\"/>\n       <use xlink:href=\"#DejaVuSans-35\" x=\"147.412109\"/>\n       <use xlink:href=\"#DejaVuSans-30\" x=\"211.035156\"/>\n      </g>\n     </g>\n    </g>\n    <g id=\"ytick_2\">\n     <g id=\"line2d_5\">\n      <g>\n       <use xlink:href=\"#m6b2c4f2093\" x=\"41.667187\" y=\"111.5833\" style=\"stroke: #000000; stroke-width: 0.8\"/>\n      </g>\n     </g>\n     <g id=\"text_5\">\n      <!-- −100 -->\n      <g transform=\"translate(7.2 115.382519)scale(0.1 -0.1)\">\n       <use xlink:href=\"#DejaVuSans-2212\"/>\n       <use xlink:href=\"#DejaVuSans-31\" x=\"83.789062\"/>\n       <use xlink:href=\"#DejaVuSans-30\" x=\"147.412109\"/>\n       <use xlink:href=\"#DejaVuSans-30\" x=\"211.035156\"/>\n      </g>\n     </g>\n    </g>\n    <g id=\"ytick_3\">\n     <g id=\"line2d_6\">\n      <g>\n       <use xlink:href=\"#m6b2c4f2093\" x=\"41.667187\" y=\"87.181096\" style=\"stroke: #000000; stroke-width: 0.8\"/>\n      </g>\n     </g>\n     <g id=\"text_6\">\n      <!-- −50 -->\n      <g transform=\"translate(13.5625 90.980314)scale(0.1 -0.1)\">\n       <use xlink:href=\"#DejaVuSans-2212\"/>\n       <use xlink:href=\"#DejaVuSans-35\" x=\"83.789062\"/>\n       <use xlink:href=\"#DejaVuSans-30\" x=\"147.412109\"/>\n      </g>\n     </g>\n    </g>\n    <g id=\"ytick_4\">\n     <g id=\"line2d_7\">\n      <g>\n       <use xlink:href=\"#m6b2c4f2093\" x=\"41.667187\" y=\"62.778891\" style=\"stroke: #000000; stroke-width: 0.8\"/>\n      </g>\n     </g>\n     <g id=\"text_7\">\n      <!-- 0 -->\n      <g transform=\"translate(28.304687 66.57811)scale(0.1 -0.1)\">\n       <use xlink:href=\"#DejaVuSans-30\"/>\n      </g>\n     </g>\n    </g>\n    <g id=\"ytick_5\">\n     <g id=\"line2d_8\">\n      <g>\n       <use xlink:href=\"#m6b2c4f2093\" x=\"41.667187\" y=\"38.376686\" style=\"stroke: #000000; stroke-width: 0.8\"/>\n      </g>\n     </g>\n     <g id=\"text_8\">\n      <!-- 50 -->\n      <g transform=\"translate(21.942187 42.175905)scale(0.1 -0.1)\">\n       <use xlink:href=\"#DejaVuSans-35\"/>\n       <use xlink:href=\"#DejaVuSans-30\" x=\"63.623047\"/>\n      </g>\n     </g>\n    </g>\n    <g id=\"ytick_6\">\n     <g id=\"line2d_9\">\n      <g>\n       <use xlink:href=\"#m6b2c4f2093\" x=\"41.667187\" y=\"13.974482\" style=\"stroke: #000000; stroke-width: 0.8\"/>\n      </g>\n     </g>\n     <g id=\"text_9\">\n      <!-- 100 -->\n      <g transform=\"translate(15.579687 17.773701)scale(0.1 -0.1)\">\n       <use xlink:href=\"#DejaVuSans-31\"/>\n       <use xlink:href=\"#DejaVuSans-30\" x=\"63.623047\"/>\n       <use xlink:href=\"#DejaVuSans-30\" x=\"127.246094\"/>\n      </g>\n     </g>\n    </g>\n   </g>\n   <g id=\"patch_3\">\n    <path d=\"M 41.667187 143.1 \nL 41.667187 7.2 \n\" style=\"fill: none; stroke: #000000; stroke-width: 0.8; stroke-linejoin: miter; stroke-linecap: square\"/>\n   </g>\n   <g id=\"patch_4\">\n    <path d=\"M 236.967188 143.1 \nL 236.967188 7.2 \n\" style=\"fill: none; stroke: #000000; stroke-width: 0.8; stroke-linejoin: miter; stroke-linecap: square\"/>\n   </g>\n   <g id=\"patch_5\">\n    <path d=\"M 41.667188 143.1 \nL 236.967188 143.1 \n\" style=\"fill: none; stroke: #000000; stroke-width: 0.8; stroke-linejoin: miter; stroke-linecap: square\"/>\n   </g>\n   <g id=\"patch_6\">\n    <path d=\"M 41.667188 7.2 \nL 236.967188 7.2 \n\" style=\"fill: none; stroke: #000000; stroke-width: 0.8; stroke-linejoin: miter; stroke-linecap: square\"/>\n   </g>\n  </g>\n </g>\n <defs>\n  <clipPath id=\"p2a3578598f\">\n   <rect x=\"41.667187\" y=\"7.2\" width=\"195.3\" height=\"135.9\"/>\n  </clipPath>\n </defs>\n</svg>\n"
          },
          "metadata": {
            "needs_background": "light"
          }
        }
      ]
    },
    {
      "cell_type": "code",
      "source": [
        "# 2 定义，训练和测试模型\n",
        "\n",
        "# 首先定义作图函数semilogy\n",
        "\n",
        "def semilogy(x_vals, y_vals, x_label, y_label, x2_vals=None, y2_vals=None,\n",
        "             legend=None, figsize=(3.5, 2.5)):\n",
        "    d2l.set_figsize(figsize)\n",
        "    d2l.plt.xlabel(x_label)\n",
        "    d2l.plt.ylabel(y_label)\n",
        "    d2l.plt.semilogy(x_vals, y_vals)\n",
        "    if x2_vals and y2_vals:\n",
        "        d2l.plt.semilogy(x2_vals, y2_vals, linestyle=':')\n",
        "        d2l.plt.legend(legend)"
      ],
      "metadata": {
        "id": "eoP_QIxqN2x0"
      },
      "execution_count": 15,
      "outputs": []
    },
    {
      "cell_type": "code",
      "source": [
        "# 模型定义\n",
        "num_epochs, loss = 100, gloss.L2Loss()\n",
        "\n",
        "def fit_and_plot(train_features, test_features, train_labels, test_labels):\n",
        "  net=nn.Sequential()\n",
        "  net.add(nn.Dense(1))\n",
        "  net.initialize()\n",
        "  batch_size=min(10,train_labels.shape[0])\n",
        "  "
      ],
      "metadata": {
        "id": "wEnrfm9vQHIa"
      },
      "execution_count": null,
      "outputs": []
    }
  ]
}