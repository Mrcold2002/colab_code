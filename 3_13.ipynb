{
  "nbformat": 4,
  "nbformat_minor": 0,
  "metadata": {
    "colab": {
      "provenance": [],
      "authorship_tag": "ABX9TyOS5RYQlAxv8lhiV2Sngsv+",
      "include_colab_link": true
    },
    "kernelspec": {
      "name": "python3",
      "display_name": "Python 3"
    },
    "language_info": {
      "name": "python"
    }
  },
  "cells": [
    {
      "cell_type": "markdown",
      "metadata": {
        "id": "view-in-github",
        "colab_type": "text"
      },
      "source": [
        "<a href=\"https://colab.research.google.com/github/Mrcold2002/colab_code/blob/main/3_13.ipynb\" target=\"_parent\"><img src=\"https://colab.research.google.com/assets/colab-badge.svg\" alt=\"Open In Colab\"/></a>"
      ]
    },
    {
      "cell_type": "markdown",
      "source": [
        "# 3.13 丢弃法\n",
        "\n",
        "深度学习模型常常使用丢弃法（dropout） 来应对过拟合问题。\n",
        "\n",
        "## 1 方法\n",
        "\n",
        "当对多层感知器隐含层使用丢弃法时，该层的隐藏单元有一定的概率被丢掉。\n",
        "设丢弃概率为p，那么该隐藏层单元$h_i$有概率p被丢掉，有1-p的概率处于$1-p$做拉伸。\n",
        "这样做可以保证该单元输出的期望依然是$h_i$，即$E(h_i^{'})=h_i$\n",
        "\n",
        "然而在测试模型时，为了得到更确定的结果，一般不使用丢弃法。\n"
      ],
      "metadata": {
        "id": "qpZQIYcRUTHl"
      }
    },
    {
      "cell_type": "code",
      "source": [
        "import d2lzh as d2l\n",
        "from mxnet import autograd, gluon, init, nd\n",
        "from mxnet.gluon import loss as gloss, nn\n",
        "\n",
        "def dropout(X,drop_prob):\n",
        "  assert 0<=drop_prob<=1\n",
        "  keep_prob=1-drop_prob\n",
        "  if keep_prob==0:\n",
        "    return X.zeros_like()\n",
        "  mask=nd.random.uniform(0,1,X.shape)<keep_prob\n",
        "  return mask*X/keep_prob"
      ],
      "metadata": {
        "id": "2RuLAVzJVJO0"
      },
      "execution_count": 6,
      "outputs": []
    },
    {
      "cell_type": "code",
      "source": [
        "X=nd.arange(16).reshape((2,8))\n",
        "dropout(X,0.5)"
      ],
      "metadata": {
        "colab": {
          "base_uri": "https://localhost:8080/"
        },
        "id": "ndzaIjFEVt-B",
        "outputId": "155eeb81-7a2b-4fad-ddb1-344957e0cdd5"
      },
      "execution_count": 4,
      "outputs": [
        {
          "output_type": "execute_result",
          "data": {
            "text/plain": [
              "\n",
              "[[ 0.  0.  0.  0.  0.  0.  0.  0.]\n",
              " [16.  0.  0. 22. 24. 26.  0. 30.]]\n",
              "<NDArray 2x8 @cpu(0)>"
            ]
          },
          "metadata": {},
          "execution_count": 4
        }
      ]
    },
    {
      "cell_type": "code",
      "source": [
        "drop_prob1, drop_prob2 = 0.2, 0.5\n",
        "net=nn.Sequential()\n",
        "net.add(nn.Dense(256,activation='relu'),\n",
        "        nn.Dropout(drop_prob1),\n",
        "        nn.Dense(256,activation='relu'),\n",
        "        nn.Dropout(drop_prob2),\n",
        "        nn.Dense(10))\n",
        "net.initialize(init.Normal(sigma=0.01))"
      ],
      "metadata": {
        "id": "dauSaScdV3yj"
      },
      "execution_count": 9,
      "outputs": []
    },
    {
      "cell_type": "code",
      "source": [
        "num_epochs, lr, batch_size = 5, 0.5, 256\n",
        "loss = gloss.SoftmaxCrossEntropyLoss()\n",
        "train_iter, test_iter = d2l.load_data_fashion_mnist(batch_size)\n",
        "trainer = gluon.Trainer(net.collect_params(), 'sgd', {'learning_rate': lr})\n",
        "d2l.train_ch3(net, train_iter, test_iter, loss, num_epochs, batch_size, None,\n",
        "              None, trainer)"
      ],
      "metadata": {
        "colab": {
          "base_uri": "https://localhost:8080/"
        },
        "id": "ykxqigfpWZaY",
        "outputId": "d7a1614a-b777-480e-aceb-d24b66fb7dbb"
      },
      "execution_count": 12,
      "outputs": [
        {
          "output_type": "stream",
          "name": "stdout",
          "text": [
            "Downloading /root/.mxnet/datasets/fashion-mnist/train-images-idx3-ubyte.gz from https://apache-mxnet.s3-accelerate.dualstack.amazonaws.com/gluon/dataset/fashion-mnist/train-images-idx3-ubyte.gz...\n",
            "Downloading /root/.mxnet/datasets/fashion-mnist/train-labels-idx1-ubyte.gz from https://apache-mxnet.s3-accelerate.dualstack.amazonaws.com/gluon/dataset/fashion-mnist/train-labels-idx1-ubyte.gz...\n",
            "Downloading /root/.mxnet/datasets/fashion-mnist/t10k-images-idx3-ubyte.gz from https://apache-mxnet.s3-accelerate.dualstack.amazonaws.com/gluon/dataset/fashion-mnist/t10k-images-idx3-ubyte.gz...\n",
            "Downloading /root/.mxnet/datasets/fashion-mnist/t10k-labels-idx1-ubyte.gz from https://apache-mxnet.s3-accelerate.dualstack.amazonaws.com/gluon/dataset/fashion-mnist/t10k-labels-idx1-ubyte.gz...\n",
            "epoch 1, loss 1.1383, train acc 0.557, test acc 0.792\n",
            "epoch 2, loss 0.5749, train acc 0.787, test acc 0.838\n",
            "epoch 3, loss 0.4869, train acc 0.822, test acc 0.854\n",
            "epoch 4, loss 0.4425, train acc 0.839, test acc 0.860\n",
            "epoch 5, loss 0.4140, train acc 0.848, test acc 0.867\n"
          ]
        }
      ]
    },
    {
      "cell_type": "markdown",
      "source": [
        "## 2 小结\n",
        "\n",
        "- 我们可以通过使用丢弃法应对过拟合。\n",
        "- 丢弃法只在训练模型时使用。"
      ],
      "metadata": {
        "id": "TP5-3maFZCsc"
      }
    }
  ]
}