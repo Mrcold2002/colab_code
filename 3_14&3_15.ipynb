{
  "nbformat": 4,
  "nbformat_minor": 0,
  "metadata": {
    "colab": {
      "provenance": [],
      "authorship_tag": "ABX9TyNWzyDfHHSBajMDVfAU1uVG",
      "include_colab_link": true
    },
    "kernelspec": {
      "name": "python3",
      "display_name": "Python 3"
    },
    "language_info": {
      "name": "python"
    }
  },
  "cells": [
    {
      "cell_type": "markdown",
      "metadata": {
        "id": "view-in-github",
        "colab_type": "text"
      },
      "source": [
        "<a href=\"https://colab.research.google.com/github/Mrcold2002/colab_code/blob/main/3_14%263_15.ipynb\" target=\"_parent\"><img src=\"https://colab.research.google.com/assets/colab-badge.svg\" alt=\"Open In Colab\"/></a>"
      ]
    },
    {
      "cell_type": "markdown",
      "source": [
        "# 3.14 正向传播，反向传播和计算图\n",
        "\n",
        "- 正向传播\n",
        "定义：指对神经网络沿着从输入层到输出层地顺序，依次计算并存储模型中的中间变量，\n",
        "- 正向传播计算图(见书)\n",
        "- 反向传播\n",
        "定义：指的是计算神经网络参数的方法。\n",
        "反向传播依据微积分中的链式法则，沿着从输出层到输入层的顺序，依次计算并存储目标函数的有关神经网络各层的中间变量及参数梯度。\n",
        "- 训练深度学习模型\n",
        "在训练深度学习模型时，正向传播和反向传播相互依赖：\n",
        "  - 一方面，正向传播的计算可能依赖于模型参数的当前值，而这些模型参数时在反向传播的梯度计算后通过优化算法迭代的\n",
        "  - 另一方面，反向传播的梯度计算可能依赖于各变量的当前值，而这些变量的当前值是通过正向传播计算得到的\n",
        "\n",
        "# 3.15 数值稳定和模型初始化\n",
        "- 衰减和爆炸\n",
        "当神经网络层数变多时，模型的数值稳定性容易变差。\n",
        "\n",
        "对于多层感知器，假设所有层的权重参数为0.2或5，那么30层后的输入变为$0.2^{30}(衰减)$或$5^{30}(爆炸)$\n",
        "\n",
        "- 随机初始化模型参数\n",
        "\n",
        "在神经网络中通常需要随机初始化模型参数\n",
        "- 原因：\n",
        "  - 避免模型对称性：如果我们将所有模型参数初始化为相同的值，那么所有的神经元将具有相同的权重，这将导致模型对称性。对称性意味着所有的神经元将执行相同的操作，无法学习不同的特征，最终导致模型性能的下降。\n",
        "\n",
        "  - 避免局部最优解：如果我们将模型参数初始化为固定的值，那么在训练模型时，模型将会陷入一个局部最优解中。这是因为初始参数的值可能使模型陷入一个错误的局部最优解，而无法跳出该局部最优解。\n",
        "\n",
        "  - 帮助模型更快地收敛：随机初始化可以帮助模型更快地收敛到全局最优解。如果我们将所有的参数初始化为相同的值，那么每个神经元将在相同的方向上更新它们的权重，这可能导致在训练过程中的梯度消失或爆炸。随机初始化可以在不同的方向上更新权重，从而减少梯度消失或爆炸的风险，帮助模型更快地收敛。\n",
        "\n",
        "1. Mxnet的默认随机初始化\n",
        "net.initialize(init.Normal(sigma=0.01))\n",
        "2. Xavier随机初始化"
      ],
      "metadata": {
        "id": "HF9bSG8amb7L"
      }
    },
    {
      "cell_type": "code",
      "execution_count": null,
      "metadata": {
        "id": "V32uAFnTmN9o"
      },
      "outputs": [],
      "source": []
    }
  ]
}