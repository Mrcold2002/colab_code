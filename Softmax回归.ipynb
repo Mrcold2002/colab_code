{
  "nbformat": 4,
  "nbformat_minor": 0,
  "metadata": {
    "colab": {
      "provenance": [],
      "toc_visible": true,
      "authorship_tag": "ABX9TyMgSDY3uO3Mz2bR5p5HzcSz",
      "include_colab_link": true
    },
    "kernelspec": {
      "name": "python3",
      "display_name": "Python 3"
    },
    "language_info": {
      "name": "python"
    }
  },
  "cells": [
    {
      "cell_type": "markdown",
      "metadata": {
        "id": "view-in-github",
        "colab_type": "text"
      },
      "source": [
        "<a href=\"https://colab.research.google.com/github/Mrcold2002/colab_code/blob/main/Softmax%E5%9B%9E%E5%BD%92.ipynb\" target=\"_parent\"><img src=\"https://colab.research.google.com/assets/colab-badge.svg\" alt=\"Open In Colab\"/></a>"
      ]
    },
    {
      "cell_type": "code",
      "execution_count": 6,
      "metadata": {
        "id": "j5OORTiKZbBH"
      },
      "outputs": [],
      "source": [
        "%matplotlib inline\n",
        "import d2lzh as d2l\n",
        "from mxnet import autograd,nd"
      ]
    },
    {
      "cell_type": "markdown",
      "source": [
        "1 读取数据集\n",
        "  使用Fashion-MNIST数据集，设置批量大小256"
      ],
      "metadata": {
        "id": "RbbyryvNcLnJ"
      }
    },
    {
      "cell_type": "code",
      "source": [
        "batch_size=256\n",
        "train_iter,test_iter=d2l.load_data_fashion_mnist(batch_size)"
      ],
      "metadata": {
        "colab": {
          "base_uri": "https://localhost:8080/"
        },
        "id": "5W8LexUfcO2y",
        "outputId": "0d879f39-f616-4594-a005-151df1df6a06"
      },
      "execution_count": 7,
      "outputs": [
        {
          "output_type": "stream",
          "name": "stdout",
          "text": [
            "Downloading /root/.mxnet/datasets/fashion-mnist/train-images-idx3-ubyte.gz from https://apache-mxnet.s3-accelerate.dualstack.amazonaws.com/gluon/dataset/fashion-mnist/train-images-idx3-ubyte.gz...\n",
            "Downloading /root/.mxnet/datasets/fashion-mnist/train-labels-idx1-ubyte.gz from https://apache-mxnet.s3-accelerate.dualstack.amazonaws.com/gluon/dataset/fashion-mnist/train-labels-idx1-ubyte.gz...\n",
            "Downloading /root/.mxnet/datasets/fashion-mnist/t10k-images-idx3-ubyte.gz from https://apache-mxnet.s3-accelerate.dualstack.amazonaws.com/gluon/dataset/fashion-mnist/t10k-images-idx3-ubyte.gz...\n",
            "Downloading /root/.mxnet/datasets/fashion-mnist/t10k-labels-idx1-ubyte.gz from https://apache-mxnet.s3-accelerate.dualstack.amazonaws.com/gluon/dataset/fashion-mnist/t10k-labels-idx1-ubyte.gz...\n"
          ]
        }
      ]
    },
    {
      "cell_type": "markdown",
      "source": [
        "2 初始化模型参数"
      ],
      "metadata": {
        "id": "SG98wutBc3HK"
      }
    },
    {
      "cell_type": "code",
      "source": [
        "num_inputs=784 # 每个样本大小为28*28=784\n",
        "num_outputs=19 #总共有10类\n",
        "\n",
        "w=nd.random.normal(scale=0.01,shape=(num_inputs,num_outputs))\n",
        "b=nd.zeros(num_outputs)\n",
        "\n",
        "w.attach_grad()\n",
        "b.attach_grad()"
      ],
      "metadata": {
        "id": "JToLV9ulc7VB"
      },
      "execution_count": 24,
      "outputs": []
    },
    {
      "cell_type": "markdown",
      "source": [
        "3 实现softmax运算"
      ],
      "metadata": {
        "id": "gdCxEErodn3T"
      }
    },
    {
      "cell_type": "code",
      "source": [
        "# 对同一列axis=0或同一行axis=1的元素求和\n",
        "# 并在结果中保留行和列这两个维度 keepdims=True\n",
        "X = nd.array([[1,2,3],[4,5,6]])\n",
        "X.sum(axis=0,keepdims=True),X.sum(axis=1,keepdims=True)"
      ],
      "metadata": {
        "colab": {
          "base_uri": "https://localhost:8080/"
        },
        "id": "KAQroHXwduTh",
        "outputId": "eff86b38-4fb5-408b-9864-e17f4f4a02ef"
      },
      "execution_count": 11,
      "outputs": [
        {
          "output_type": "execute_result",
          "data": {
            "text/plain": [
              "(\n",
              " [[5. 7. 9.]]\n",
              " <NDArray 1x3 @cpu(0)>, \n",
              " [[ 6.]\n",
              "  [15.]]\n",
              " <NDArray 2x1 @cpu(0)>)"
            ]
          },
          "metadata": {},
          "execution_count": 11
        }
      ]
    },
    {
      "cell_type": "code",
      "source": [
        "def softmax(X):\n",
        "  #矩阵X的行数是样本数，列数是输出个数\n",
        "  X_exp=X.exp()# 对所有数取exp\n",
        "  partition=X_exp.sum(axis=1,keepdims=True) # 每一行进行累和\n",
        "  return X_exp/partition"
      ],
      "metadata": {
        "id": "ybIdGUBpeU1f"
      },
      "execution_count": 13,
      "outputs": []
    },
    {
      "cell_type": "code",
      "source": [
        "X=nd.random.normal(shape=(2,5))\n",
        "X_prob=softmax(X)\n",
        "X_prob,X_prob.sum(axis=1)\n",
        "#可以看到对于随机输入，每个元素变为非负数，且和为1"
      ],
      "metadata": {
        "colab": {
          "base_uri": "https://localhost:8080/"
        },
        "id": "-AL_FDnnf1c1",
        "outputId": "c2470ebf-aa56-49e9-afd0-c827cae4c7e9"
      },
      "execution_count": 14,
      "outputs": [
        {
          "output_type": "execute_result",
          "data": {
            "text/plain": [
              "(\n",
              " [[0.3800092  0.09019671 0.11808793 0.13589936 0.27580675]\n",
              "  [0.09572445 0.05599073 0.20952241 0.58733696 0.05142545]]\n",
              " <NDArray 2x5 @cpu(0)>, \n",
              " [1. 1.]\n",
              " <NDArray 2 @cpu(0)>)"
            ]
          },
          "metadata": {},
          "execution_count": 14
        }
      ]
    },
    {
      "cell_type": "markdown",
      "source": [
        "4 定义模型"
      ],
      "metadata": {
        "id": "RFkHJD6FhI2F"
      }
    },
    {
      "cell_type": "code",
      "source": [
        "def net(X):\n",
        "  return softmax(nd.dot(X.reshape((-1,num_inputs)),w)+b)\n",
        "  # 通过reshape函数将每张原始图片转为长度为num_inputs向量，而w为（num_inputs,num_outputs）的向量"
      ],
      "metadata": {
        "id": "zquuubdKhK-Q"
      },
      "execution_count": 16,
      "outputs": []
    },
    {
      "cell_type": "markdown",
      "source": [
        "5 定义损失函数"
      ],
      "metadata": {
        "id": "UR4QvKWUh1I0"
      }
    },
    {
      "cell_type": "code",
      "source": [
        "y_hat=nd.array([[0.1,0.3,0.6],[0.3,0.2,0.5]])\n",
        "y=nd.array([0,2],dtype='int32')\n",
        "nd.pick(y_hat,y)\n",
        "# nd.pick相当于根据y从y_hat中取出对应元素"
      ],
      "metadata": {
        "colab": {
          "base_uri": "https://localhost:8080/"
        },
        "id": "-A5QPUZih2nt",
        "outputId": "009a1a2b-ccd3-4a20-a1bc-13d7d8f002b6"
      },
      "execution_count": 15,
      "outputs": [
        {
          "output_type": "execute_result",
          "data": {
            "text/plain": [
              "\n",
              "[0.1 0.5]\n",
              "<NDArray 2 @cpu(0)>"
            ]
          },
          "metadata": {},
          "execution_count": 15
        }
      ]
    },
    {
      "cell_type": "code",
      "source": [
        "def cross_entropy(y_hat,y):\n",
        "  return -nd.pick(y_hat,y).log"
      ],
      "metadata": {
        "id": "-2dLeMijiwZT"
      },
      "execution_count": 18,
      "outputs": []
    },
    {
      "cell_type": "markdown",
      "source": [
        "6 计算分类准确率"
      ],
      "metadata": {
        "id": "rIMhf5_si_ET"
      }
    },
    {
      "cell_type": "code",
      "source": [
        "# y_hat.argmax(axis=1) 返回矩阵y_hat每行中的最大值\n",
        "def accuracy(y_hat,y):\n",
        "  # 将y_hat中概率最大的类别与实际标签y比较\n",
        "  return (y_hat.argmax(axis=1)==y.astype('float32')).mean().asscalar()\n",
        "\n",
        "accuracy(y_hat,y)"
      ],
      "metadata": {
        "colab": {
          "base_uri": "https://localhost:8080/"
        },
        "id": "QJTEL1RVi3KN",
        "outputId": "cc32353b-73af-4535-ef07-c99549a3203d"
      },
      "execution_count": 20,
      "outputs": [
        {
          "output_type": "execute_result",
          "data": {
            "text/plain": [
              "0.5"
            ]
          },
          "metadata": {},
          "execution_count": 20
        }
      ]
    },
    {
      "cell_type": "code",
      "source": [
        "def evaluate_accuracy(data_iter,net):\n",
        "  acc_sum,n=0.0,0\n",
        "  for X,y in data_iter:\n",
        "    y=y.astype('float32')\n",
        "    acc_sum+=(net(X).argmax(axis=1)==y).sum().asscalar()\n",
        "    # 在深度学习框架MXNet中，表示对一个NDArray（N维数组）中的所有元素求和，并将结果转换为标量（scalar）。\n",
        "    # 比较回归后的结果是否正确\n",
        "    n+=y.size\n",
        "  return acc_sum/n\n",
        "# 初始状态，正确率应接近0.1\n",
        "evaluate_accuracy(test_iter,net)"
      ],
      "metadata": {
        "colab": {
          "base_uri": "https://localhost:8080/"
        },
        "id": "Pq1cFkMTkLQo",
        "outputId": "885fe1d6-f2b3-417f-faec-03bf4d43e534"
      },
      "execution_count": 25,
      "outputs": [
        {
          "output_type": "execute_result",
          "data": {
            "text/plain": [
              "0.0823"
            ]
          },
          "metadata": {},
          "execution_count": 25
        }
      ]
    },
    {
      "cell_type": "code",
      "source": [],
      "metadata": {
        "id": "hwK4l-flnOv_"
      },
      "execution_count": null,
      "outputs": []
    }
  ]
}